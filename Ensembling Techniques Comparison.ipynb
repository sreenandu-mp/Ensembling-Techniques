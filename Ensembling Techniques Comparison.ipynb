{
 "cells": [
  {
   "cell_type": "code",
   "execution_count": 29,
   "id": "4430a372",
   "metadata": {},
   "outputs": [],
   "source": [
    "import numpy as np\n",
    "import pandas as pd\n",
    "import matplotlib.pyplot as plt"
   ]
  },
  {
   "cell_type": "code",
   "execution_count": 30,
   "id": "b44736f8",
   "metadata": {},
   "outputs": [
    {
     "data": {
      "text/plain": [
       "(1460, 22)"
      ]
     },
     "execution_count": 30,
     "metadata": {},
     "output_type": "execute_result"
    }
   ],
   "source": [
    "dataset=pd.read_csv(\"train_final.csv\")\n",
    "dataset.shape"
   ]
  },
  {
   "cell_type": "code",
   "execution_count": 31,
   "id": "98eaff3d",
   "metadata": {},
   "outputs": [
    {
     "data": {
      "text/html": [
       "<div>\n",
       "<style scoped>\n",
       "    .dataframe tbody tr th:only-of-type {\n",
       "        vertical-align: middle;\n",
       "    }\n",
       "\n",
       "    .dataframe tbody tr th {\n",
       "        vertical-align: top;\n",
       "    }\n",
       "\n",
       "    .dataframe thead th {\n",
       "        text-align: right;\n",
       "    }\n",
       "</style>\n",
       "<table border=\"1\" class=\"dataframe\">\n",
       "  <thead>\n",
       "    <tr style=\"text-align: right;\">\n",
       "      <th></th>\n",
       "      <th>MSSubClass</th>\n",
       "      <th>MSZoning</th>\n",
       "      <th>Neighborhood</th>\n",
       "      <th>OverallQual</th>\n",
       "      <th>YearRemodAdd</th>\n",
       "      <th>RoofStyle</th>\n",
       "      <th>BsmtQual</th>\n",
       "      <th>BsmtExposure</th>\n",
       "      <th>HeatingQC</th>\n",
       "      <th>CentralAir</th>\n",
       "      <th>...</th>\n",
       "      <th>BsmtFullBath</th>\n",
       "      <th>KitchenQual</th>\n",
       "      <th>Fireplaces</th>\n",
       "      <th>FireplaceQu</th>\n",
       "      <th>GarageType</th>\n",
       "      <th>GarageFinish</th>\n",
       "      <th>GarageCars</th>\n",
       "      <th>PavedDrive</th>\n",
       "      <th>SaleCondition</th>\n",
       "      <th>SalePrice</th>\n",
       "    </tr>\n",
       "  </thead>\n",
       "  <tbody>\n",
       "    <tr>\n",
       "      <th>0</th>\n",
       "      <td>0.235294</td>\n",
       "      <td>0.75</td>\n",
       "      <td>0.636364</td>\n",
       "      <td>0.666667</td>\n",
       "      <td>0.098361</td>\n",
       "      <td>0.0</td>\n",
       "      <td>0.75</td>\n",
       "      <td>0.25</td>\n",
       "      <td>1.00</td>\n",
       "      <td>1.0</td>\n",
       "      <td>...</td>\n",
       "      <td>0.333333</td>\n",
       "      <td>0.666667</td>\n",
       "      <td>0.000000</td>\n",
       "      <td>0.2</td>\n",
       "      <td>0.8</td>\n",
       "      <td>0.666667</td>\n",
       "      <td>0.50</td>\n",
       "      <td>1.0</td>\n",
       "      <td>0.75</td>\n",
       "      <td>12.247694</td>\n",
       "    </tr>\n",
       "    <tr>\n",
       "      <th>1</th>\n",
       "      <td>0.000000</td>\n",
       "      <td>0.75</td>\n",
       "      <td>0.500000</td>\n",
       "      <td>0.555556</td>\n",
       "      <td>0.524590</td>\n",
       "      <td>0.0</td>\n",
       "      <td>0.75</td>\n",
       "      <td>1.00</td>\n",
       "      <td>1.00</td>\n",
       "      <td>1.0</td>\n",
       "      <td>...</td>\n",
       "      <td>0.000000</td>\n",
       "      <td>0.333333</td>\n",
       "      <td>0.333333</td>\n",
       "      <td>0.6</td>\n",
       "      <td>0.8</td>\n",
       "      <td>0.666667</td>\n",
       "      <td>0.50</td>\n",
       "      <td>1.0</td>\n",
       "      <td>0.75</td>\n",
       "      <td>12.109011</td>\n",
       "    </tr>\n",
       "    <tr>\n",
       "      <th>2</th>\n",
       "      <td>0.235294</td>\n",
       "      <td>0.75</td>\n",
       "      <td>0.636364</td>\n",
       "      <td>0.666667</td>\n",
       "      <td>0.114754</td>\n",
       "      <td>0.0</td>\n",
       "      <td>0.75</td>\n",
       "      <td>0.50</td>\n",
       "      <td>1.00</td>\n",
       "      <td>1.0</td>\n",
       "      <td>...</td>\n",
       "      <td>0.333333</td>\n",
       "      <td>0.666667</td>\n",
       "      <td>0.333333</td>\n",
       "      <td>0.6</td>\n",
       "      <td>0.8</td>\n",
       "      <td>0.666667</td>\n",
       "      <td>0.50</td>\n",
       "      <td>1.0</td>\n",
       "      <td>0.75</td>\n",
       "      <td>12.317167</td>\n",
       "    </tr>\n",
       "    <tr>\n",
       "      <th>3</th>\n",
       "      <td>0.294118</td>\n",
       "      <td>0.75</td>\n",
       "      <td>0.727273</td>\n",
       "      <td>0.666667</td>\n",
       "      <td>0.606557</td>\n",
       "      <td>0.0</td>\n",
       "      <td>0.50</td>\n",
       "      <td>0.25</td>\n",
       "      <td>0.75</td>\n",
       "      <td>1.0</td>\n",
       "      <td>...</td>\n",
       "      <td>0.333333</td>\n",
       "      <td>0.666667</td>\n",
       "      <td>0.333333</td>\n",
       "      <td>0.8</td>\n",
       "      <td>0.4</td>\n",
       "      <td>0.333333</td>\n",
       "      <td>0.75</td>\n",
       "      <td>1.0</td>\n",
       "      <td>0.00</td>\n",
       "      <td>11.849398</td>\n",
       "    </tr>\n",
       "    <tr>\n",
       "      <th>4</th>\n",
       "      <td>0.235294</td>\n",
       "      <td>0.75</td>\n",
       "      <td>1.000000</td>\n",
       "      <td>0.777778</td>\n",
       "      <td>0.147541</td>\n",
       "      <td>0.0</td>\n",
       "      <td>0.75</td>\n",
       "      <td>0.75</td>\n",
       "      <td>1.00</td>\n",
       "      <td>1.0</td>\n",
       "      <td>...</td>\n",
       "      <td>0.333333</td>\n",
       "      <td>0.666667</td>\n",
       "      <td>0.333333</td>\n",
       "      <td>0.6</td>\n",
       "      <td>0.8</td>\n",
       "      <td>0.666667</td>\n",
       "      <td>0.75</td>\n",
       "      <td>1.0</td>\n",
       "      <td>0.75</td>\n",
       "      <td>12.429216</td>\n",
       "    </tr>\n",
       "  </tbody>\n",
       "</table>\n",
       "<p>5 rows × 22 columns</p>\n",
       "</div>"
      ],
      "text/plain": [
       "   MSSubClass  MSZoning  Neighborhood  OverallQual  YearRemodAdd  RoofStyle  \\\n",
       "0    0.235294      0.75      0.636364     0.666667      0.098361        0.0   \n",
       "1    0.000000      0.75      0.500000     0.555556      0.524590        0.0   \n",
       "2    0.235294      0.75      0.636364     0.666667      0.114754        0.0   \n",
       "3    0.294118      0.75      0.727273     0.666667      0.606557        0.0   \n",
       "4    0.235294      0.75      1.000000     0.777778      0.147541        0.0   \n",
       "\n",
       "   BsmtQual  BsmtExposure  HeatingQC  CentralAir  ...  BsmtFullBath  \\\n",
       "0      0.75          0.25       1.00         1.0  ...      0.333333   \n",
       "1      0.75          1.00       1.00         1.0  ...      0.000000   \n",
       "2      0.75          0.50       1.00         1.0  ...      0.333333   \n",
       "3      0.50          0.25       0.75         1.0  ...      0.333333   \n",
       "4      0.75          0.75       1.00         1.0  ...      0.333333   \n",
       "\n",
       "   KitchenQual  Fireplaces  FireplaceQu  GarageType  GarageFinish  GarageCars  \\\n",
       "0     0.666667    0.000000          0.2         0.8      0.666667        0.50   \n",
       "1     0.333333    0.333333          0.6         0.8      0.666667        0.50   \n",
       "2     0.666667    0.333333          0.6         0.8      0.666667        0.50   \n",
       "3     0.666667    0.333333          0.8         0.4      0.333333        0.75   \n",
       "4     0.666667    0.333333          0.6         0.8      0.666667        0.75   \n",
       "\n",
       "   PavedDrive  SaleCondition  SalePrice  \n",
       "0         1.0           0.75  12.247694  \n",
       "1         1.0           0.75  12.109011  \n",
       "2         1.0           0.75  12.317167  \n",
       "3         1.0           0.00  11.849398  \n",
       "4         1.0           0.75  12.429216  \n",
       "\n",
       "[5 rows x 22 columns]"
      ]
     },
     "execution_count": 31,
     "metadata": {},
     "output_type": "execute_result"
    }
   ],
   "source": [
    "dataset.head()"
   ]
  },
  {
   "cell_type": "code",
   "execution_count": 53,
   "id": "79610099",
   "metadata": {},
   "outputs": [],
   "source": [
    "from sklearn.model_selection import train_test_split\n",
    "X_train,X_test,y_train,y_test=train_test_split(dataset.drop(columns=['SalePrice']),dataset['SalePrice'],test_size=0.1,random_state=0)"
   ]
  },
  {
   "cell_type": "code",
   "execution_count": 54,
   "id": "2dd3fc91",
   "metadata": {},
   "outputs": [
    {
     "data": {
      "text/html": [
       "<div>\n",
       "<style scoped>\n",
       "    .dataframe tbody tr th:only-of-type {\n",
       "        vertical-align: middle;\n",
       "    }\n",
       "\n",
       "    .dataframe tbody tr th {\n",
       "        vertical-align: top;\n",
       "    }\n",
       "\n",
       "    .dataframe thead th {\n",
       "        text-align: right;\n",
       "    }\n",
       "</style>\n",
       "<table border=\"1\" class=\"dataframe\">\n",
       "  <thead>\n",
       "    <tr style=\"text-align: right;\">\n",
       "      <th></th>\n",
       "      <th>MSSubClass</th>\n",
       "      <th>MSZoning</th>\n",
       "      <th>Neighborhood</th>\n",
       "      <th>OverallQual</th>\n",
       "      <th>YearRemodAdd</th>\n",
       "      <th>RoofStyle</th>\n",
       "      <th>BsmtQual</th>\n",
       "      <th>BsmtExposure</th>\n",
       "      <th>HeatingQC</th>\n",
       "      <th>CentralAir</th>\n",
       "      <th>...</th>\n",
       "      <th>GrLivArea</th>\n",
       "      <th>BsmtFullBath</th>\n",
       "      <th>KitchenQual</th>\n",
       "      <th>Fireplaces</th>\n",
       "      <th>FireplaceQu</th>\n",
       "      <th>GarageType</th>\n",
       "      <th>GarageFinish</th>\n",
       "      <th>GarageCars</th>\n",
       "      <th>PavedDrive</th>\n",
       "      <th>SaleCondition</th>\n",
       "    </tr>\n",
       "  </thead>\n",
       "  <tbody>\n",
       "    <tr>\n",
       "      <th>529</th>\n",
       "      <td>0.000000</td>\n",
       "      <td>0.75</td>\n",
       "      <td>0.727273</td>\n",
       "      <td>0.555556</td>\n",
       "      <td>0.540984</td>\n",
       "      <td>1.0</td>\n",
       "      <td>0.50</td>\n",
       "      <td>0.25</td>\n",
       "      <td>0.5</td>\n",
       "      <td>1.0</td>\n",
       "      <td>...</td>\n",
       "      <td>0.714182</td>\n",
       "      <td>0.333333</td>\n",
       "      <td>0.333333</td>\n",
       "      <td>0.666667</td>\n",
       "      <td>0.6</td>\n",
       "      <td>0.8</td>\n",
       "      <td>0.666667</td>\n",
       "      <td>0.50</td>\n",
       "      <td>1.0</td>\n",
       "      <td>0.25</td>\n",
       "    </tr>\n",
       "    <tr>\n",
       "      <th>491</th>\n",
       "      <td>0.176471</td>\n",
       "      <td>0.75</td>\n",
       "      <td>0.363636</td>\n",
       "      <td>0.555556</td>\n",
       "      <td>0.934426</td>\n",
       "      <td>0.0</td>\n",
       "      <td>0.50</td>\n",
       "      <td>0.25</td>\n",
       "      <td>0.5</td>\n",
       "      <td>1.0</td>\n",
       "      <td>...</td>\n",
       "      <td>0.549294</td>\n",
       "      <td>0.333333</td>\n",
       "      <td>0.000000</td>\n",
       "      <td>0.666667</td>\n",
       "      <td>0.6</td>\n",
       "      <td>0.8</td>\n",
       "      <td>0.333333</td>\n",
       "      <td>0.25</td>\n",
       "      <td>1.0</td>\n",
       "      <td>0.75</td>\n",
       "    </tr>\n",
       "    <tr>\n",
       "      <th>459</th>\n",
       "      <td>0.176471</td>\n",
       "      <td>0.75</td>\n",
       "      <td>0.136364</td>\n",
       "      <td>0.444444</td>\n",
       "      <td>0.983607</td>\n",
       "      <td>0.0</td>\n",
       "      <td>0.50</td>\n",
       "      <td>0.25</td>\n",
       "      <td>0.5</td>\n",
       "      <td>1.0</td>\n",
       "      <td>...</td>\n",
       "      <td>0.453307</td>\n",
       "      <td>0.333333</td>\n",
       "      <td>0.666667</td>\n",
       "      <td>0.333333</td>\n",
       "      <td>0.6</td>\n",
       "      <td>0.4</td>\n",
       "      <td>0.333333</td>\n",
       "      <td>0.25</td>\n",
       "      <td>1.0</td>\n",
       "      <td>0.75</td>\n",
       "    </tr>\n",
       "    <tr>\n",
       "      <th>279</th>\n",
       "      <td>0.235294</td>\n",
       "      <td>0.75</td>\n",
       "      <td>0.772727</td>\n",
       "      <td>0.666667</td>\n",
       "      <td>0.524590</td>\n",
       "      <td>1.0</td>\n",
       "      <td>0.75</td>\n",
       "      <td>0.25</td>\n",
       "      <td>1.0</td>\n",
       "      <td>1.0</td>\n",
       "      <td>...</td>\n",
       "      <td>0.636999</td>\n",
       "      <td>0.000000</td>\n",
       "      <td>0.333333</td>\n",
       "      <td>0.333333</td>\n",
       "      <td>0.6</td>\n",
       "      <td>0.8</td>\n",
       "      <td>1.000000</td>\n",
       "      <td>0.50</td>\n",
       "      <td>1.0</td>\n",
       "      <td>0.75</td>\n",
       "    </tr>\n",
       "    <tr>\n",
       "      <th>655</th>\n",
       "      <td>0.823529</td>\n",
       "      <td>0.25</td>\n",
       "      <td>0.090909</td>\n",
       "      <td>0.555556</td>\n",
       "      <td>0.655738</td>\n",
       "      <td>0.0</td>\n",
       "      <td>0.50</td>\n",
       "      <td>0.25</td>\n",
       "      <td>0.5</td>\n",
       "      <td>1.0</td>\n",
       "      <td>...</td>\n",
       "      <td>0.419061</td>\n",
       "      <td>0.000000</td>\n",
       "      <td>0.333333</td>\n",
       "      <td>0.000000</td>\n",
       "      <td>0.2</td>\n",
       "      <td>0.4</td>\n",
       "      <td>0.333333</td>\n",
       "      <td>0.25</td>\n",
       "      <td>1.0</td>\n",
       "      <td>0.50</td>\n",
       "    </tr>\n",
       "  </tbody>\n",
       "</table>\n",
       "<p>5 rows × 21 columns</p>\n",
       "</div>"
      ],
      "text/plain": [
       "     MSSubClass  MSZoning  Neighborhood  OverallQual  YearRemodAdd  RoofStyle  \\\n",
       "529    0.000000      0.75      0.727273     0.555556      0.540984        1.0   \n",
       "491    0.176471      0.75      0.363636     0.555556      0.934426        0.0   \n",
       "459    0.176471      0.75      0.136364     0.444444      0.983607        0.0   \n",
       "279    0.235294      0.75      0.772727     0.666667      0.524590        1.0   \n",
       "655    0.823529      0.25      0.090909     0.555556      0.655738        0.0   \n",
       "\n",
       "     BsmtQual  BsmtExposure  HeatingQC  CentralAir  ...  GrLivArea  \\\n",
       "529      0.50          0.25        0.5         1.0  ...   0.714182   \n",
       "491      0.50          0.25        0.5         1.0  ...   0.549294   \n",
       "459      0.50          0.25        0.5         1.0  ...   0.453307   \n",
       "279      0.75          0.25        1.0         1.0  ...   0.636999   \n",
       "655      0.50          0.25        0.5         1.0  ...   0.419061   \n",
       "\n",
       "     BsmtFullBath  KitchenQual  Fireplaces  FireplaceQu  GarageType  \\\n",
       "529      0.333333     0.333333    0.666667          0.6         0.8   \n",
       "491      0.333333     0.000000    0.666667          0.6         0.8   \n",
       "459      0.333333     0.666667    0.333333          0.6         0.4   \n",
       "279      0.000000     0.333333    0.333333          0.6         0.8   \n",
       "655      0.000000     0.333333    0.000000          0.2         0.4   \n",
       "\n",
       "     GarageFinish  GarageCars  PavedDrive  SaleCondition  \n",
       "529      0.666667        0.50         1.0           0.25  \n",
       "491      0.333333        0.25         1.0           0.75  \n",
       "459      0.333333        0.25         1.0           0.75  \n",
       "279      1.000000        0.50         1.0           0.75  \n",
       "655      0.333333        0.25         1.0           0.50  \n",
       "\n",
       "[5 rows x 21 columns]"
      ]
     },
     "execution_count": 54,
     "metadata": {},
     "output_type": "execute_result"
    }
   ],
   "source": [
    "X_test.head()"
   ]
  },
  {
   "cell_type": "markdown",
   "id": "79a4f3ce",
   "metadata": {},
   "source": [
    "# Linear Regression"
   ]
  },
  {
   "cell_type": "code",
   "execution_count": 55,
   "id": "0818699a",
   "metadata": {},
   "outputs": [
    {
     "data": {
      "text/plain": [
       "LinearRegression()"
      ]
     },
     "execution_count": 55,
     "metadata": {},
     "output_type": "execute_result"
    }
   ],
   "source": [
    "from sklearn.linear_model import LinearRegression\n",
    "lr=LinearRegression()\n",
    "lr.fit(X_train,y_train)"
   ]
  },
  {
   "cell_type": "code",
   "execution_count": 56,
   "id": "81f3c448",
   "metadata": {},
   "outputs": [],
   "source": [
    "#making a predicted y value for given X in linear regression\n",
    "y_pred_lr=reg.predict(X_test)"
   ]
  },
  {
   "cell_type": "code",
   "execution_count": 57,
   "id": "5a9ada98",
   "metadata": {},
   "outputs": [
    {
     "name": "stdout",
     "output_type": "stream",
     "text": [
      "MSE:0.0156\n",
      "MAE:0.0974\n",
      "R2_score:0.8864\n"
     ]
    }
   ],
   "source": [
    "from sklearn.metrics import mean_squared_error,r2_score,mean_absolute_error\n",
    "print('MSE:%.4f'%mean_squared_error(y_test,y_pred_lr))\n",
    "print('MAE:%.4f'%mean_absolute_error(y_test,y_pred_lr))\n",
    "print('R2_score:%.4f'%r2_score(y_test,y_pred_lr))"
   ]
  },
  {
   "cell_type": "markdown",
   "id": "ea72c89d",
   "metadata": {},
   "source": [
    "# 1.Bagging Technique (Random Forest)\n",
    " Train multiple models independently using random subsets of data and aggregate their predictions.\n",
    " Use Random Forest Regressor (bagging-based model)"
   ]
  },
  {
   "cell_type": "code",
   "execution_count": 74,
   "id": "11461867",
   "metadata": {},
   "outputs": [],
   "source": [
    "from sklearn.ensemble import RandomForestRegressor"
   ]
  },
  {
   "cell_type": "code",
   "execution_count": 75,
   "id": "13f8939f",
   "metadata": {},
   "outputs": [
    {
     "data": {
      "text/plain": [
       "RandomForestRegressor(random_state=42)"
      ]
     },
     "execution_count": 75,
     "metadata": {},
     "output_type": "execute_result"
    }
   ],
   "source": [
    "rf=RandomForestRegressor(n_estimators=100,random_state=42)\n",
    "rf.fit(X_train,y_train)"
   ]
  },
  {
   "cell_type": "code",
   "execution_count": 76,
   "id": "d9a557cc",
   "metadata": {},
   "outputs": [],
   "source": [
    "#making a predicted y value for given X in Random Forest\n",
    "y_pred_rf=rf.predict(X_test)"
   ]
  },
  {
   "cell_type": "code",
   "execution_count": 77,
   "id": "f43ec5f0",
   "metadata": {},
   "outputs": [
    {
     "name": "stdout",
     "output_type": "stream",
     "text": [
      "MSE:0.0150\n",
      "MAE:0.0911\n",
      "R2_score:0.8902\n"
     ]
    }
   ],
   "source": [
    "print('MSE:%.4f'%mean_squared_error(y_test,y_pred_rf))\n",
    "print('MAE:%.4f'%mean_absolute_error(y_test,y_pred_rf))\n",
    "print('R2_score:%.4f'%r2_score(y_test,y_pred_rf))"
   ]
  },
  {
   "cell_type": "markdown",
   "id": "e657e41b",
   "metadata": {},
   "source": [
    "#  2.Boosting Technique (Gradient Boosting)\n",
    "Models are trained sequentially, correcting errors of the previous model.\n",
    "Gradient Boosting is an eg for this methode"
   ]
  },
  {
   "cell_type": "code",
   "execution_count": 78,
   "id": "c31a5f5f",
   "metadata": {},
   "outputs": [],
   "source": [
    "from sklearn.ensemble import GradientBoostingRegressor"
   ]
  },
  {
   "cell_type": "code",
   "execution_count": 79,
   "id": "f51219bb",
   "metadata": {},
   "outputs": [
    {
     "data": {
      "text/plain": [
       "GradientBoostingRegressor(random_state=42)"
      ]
     },
     "execution_count": 79,
     "metadata": {},
     "output_type": "execute_result"
    }
   ],
   "source": [
    "gb=GradientBoostingRegressor(random_state=42)\n",
    "gb.fit(X_train,y_train)"
   ]
  },
  {
   "cell_type": "code",
   "execution_count": 80,
   "id": "ecc87b1d",
   "metadata": {},
   "outputs": [],
   "source": [
    "#making a predicted y value for given X in Gradient Boosting\n",
    "y_pred_gb=gb.predict(X_test)"
   ]
  },
  {
   "cell_type": "code",
   "execution_count": 81,
   "id": "8ea7c995",
   "metadata": {},
   "outputs": [
    {
     "name": "stdout",
     "output_type": "stream",
     "text": [
      "MSE:0.0160\n",
      "MAE:0.0962\n",
      "R2_score:0.8829\n"
     ]
    }
   ],
   "source": [
    "print('MSE:%.4f'%mean_squared_error(y_test,y_pred_gb))\n",
    "print('MAE:%.4f'%mean_absolute_error(y_test,y_pred_gb))\n",
    "print('R2_score:%.4f'%r2_score(y_test,y_pred_gb))"
   ]
  },
  {
   "cell_type": "markdown",
   "id": "48974fba",
   "metadata": {},
   "source": [
    "# 3.Voting Technique\n",
    "Voting methode - take the average of the base models\n",
    "\n",
    "We use Linear regression, Random Forest and Gradient Boosting as base models"
   ]
  },
  {
   "cell_type": "code",
   "execution_count": 97,
   "id": "382f70a2",
   "metadata": {},
   "outputs": [],
   "source": [
    "from sklearn.ensemble import VotingRegressor"
   ]
  },
  {
   "cell_type": "code",
   "execution_count": 98,
   "id": "240070f3",
   "metadata": {},
   "outputs": [
    {
     "data": {
      "text/plain": [
       "VotingRegressor(estimators=[('lr', LinearRegression()),\n",
       "                            ('rf', RandomForestRegressor(random_state=42)),\n",
       "                            ('gbr',\n",
       "                             GradientBoostingRegressor(random_state=42))])"
      ]
     },
     "execution_count": 98,
     "metadata": {},
     "output_type": "execute_result"
    }
   ],
   "source": [
    "ensemble=VotingRegressor([('lr',lr),('rf',rf),('gbr',gb)])\n",
    "ensemble.fit(X_train,y_train)"
   ]
  },
  {
   "cell_type": "code",
   "execution_count": 99,
   "id": "54cffd93",
   "metadata": {},
   "outputs": [],
   "source": [
    "y_pred_voting=ensemble.predict(X_test)"
   ]
  },
  {
   "cell_type": "code",
   "execution_count": 100,
   "id": "b749b839",
   "metadata": {},
   "outputs": [
    {
     "name": "stdout",
     "output_type": "stream",
     "text": [
      "MSE:0.0142\n",
      "MAE:0.0915\n",
      "R2_score:0.8962\n"
     ]
    }
   ],
   "source": [
    "print('MSE:%.4f'%mean_squared_error(y_test,y_pred_voting))\n",
    "print('MAE:%.4f'%mean_absolute_error(y_test,y_pred_voting))\n",
    "print('R2_score:%.4f'%r2_score(y_test,y_pred_voting))"
   ]
  },
  {
   "cell_type": "markdown",
   "id": "f749a7f8",
   "metadata": {},
   "source": [
    "# 4.Stacking Technique\n",
    "Combine predictions from multiple models using a meta-model."
   ]
  },
  {
   "cell_type": "code",
   "execution_count": 90,
   "id": "8403e492",
   "metadata": {},
   "outputs": [],
   "source": [
    "from sklearn.ensemble import StackingRegressor\n",
    "from sklearn.linear_model import Ridge\n",
    "import xgboost as xgb"
   ]
  },
  {
   "cell_type": "code",
   "execution_count": 91,
   "id": "c7a86008",
   "metadata": {},
   "outputs": [
    {
     "data": {
      "text/plain": [
       "StackingRegressor(estimators=[('rf',\n",
       "                               RandomForestRegressor(n_estimators=50,\n",
       "                                                     random_state=42)),\n",
       "                              ('gbr',\n",
       "                               GradientBoostingRegressor(random_state=42)),\n",
       "                              ('xgb',\n",
       "                               XGBRegressor(base_score=None, booster=None,\n",
       "                                            callbacks=None,\n",
       "                                            colsample_bylevel=None,\n",
       "                                            colsample_bynode=None,\n",
       "                                            colsample_bytree=None, device=None,\n",
       "                                            early_stopping_rounds=None,\n",
       "                                            enable_categorical=False,\n",
       "                                            eval_metric=...\n",
       "                                            importance_type=None,\n",
       "                                            interaction_constraints=None,\n",
       "                                            learning_rate=None, max_bin=None,\n",
       "                                            max_cat_threshold=None,\n",
       "                                            max_cat_to_onehot=None,\n",
       "                                            max_delta_step=None, max_depth=None,\n",
       "                                            max_leaves=None,\n",
       "                                            min_child_weight=None, missing=nan,\n",
       "                                            monotone_constraints=None,\n",
       "                                            multi_strategy=None,\n",
       "                                            n_estimators=None, n_jobs=None,\n",
       "                                            num_parallel_tree=None,\n",
       "                                            random_state=42, ...))],\n",
       "                  final_estimator=Ridge())"
      ]
     },
     "execution_count": 91,
     "metadata": {},
     "output_type": "execute_result"
    }
   ],
   "source": [
    "# Define base models\n",
    "base_models = [\n",
    "    ('rf', RandomForestRegressor(n_estimators=50, random_state=42)),\n",
    "    ('gbr', GradientBoostingRegressor(random_state=42)),\n",
    "    ('xgb', xgb.XGBRegressor(random_state=42))\n",
    "]\n",
    "\n",
    "# Define meta-model\n",
    "meta_model = Ridge()\n",
    "\n",
    "# Create Stacking Regressor\n",
    "stack_model = StackingRegressor(estimators=base_models, final_estimator=meta_model)\n",
    "stack_model.fit(X_train, y_train)"
   ]
  },
  {
   "cell_type": "code",
   "execution_count": 92,
   "id": "f41b7e94",
   "metadata": {},
   "outputs": [],
   "source": [
    "y_pred_stake = stack_model.predict(X_test)"
   ]
  },
  {
   "cell_type": "code",
   "execution_count": 93,
   "id": "2d3de47a",
   "metadata": {},
   "outputs": [
    {
     "name": "stdout",
     "output_type": "stream",
     "text": [
      "MSE:0.0152\n",
      "MAE:0.0935\n",
      "R2_score:0.8892\n"
     ]
    }
   ],
   "source": [
    "print('MSE:%.4f'%mean_squared_error(y_test,y_pred_stake))\n",
    "print('MAE:%.4f'%mean_absolute_error(y_test,y_pred_stake))\n",
    "print('R2_score:%.4f'%r2_score(y_test,y_pred_stake))"
   ]
  },
  {
   "cell_type": "markdown",
   "id": "7d352e54",
   "metadata": {},
   "source": [
    "# 5.Weighted Averaging\n",
    "Combine predictions by assigning weights to models based on their performance."
   ]
  },
  {
   "cell_type": "code",
   "execution_count": 95,
   "id": "30107a02",
   "metadata": {},
   "outputs": [],
   "source": [
    "weights = [0.3, 0.4, 0.3]  # Customize weights can change in result\n",
    "y_pred_weighted = weights[0] * y_pred_lr + weights[1] * y_pred_rf + weights[2] * y_pred_gb"
   ]
  },
  {
   "cell_type": "code",
   "execution_count": 96,
   "id": "fbcd1e02",
   "metadata": {},
   "outputs": [
    {
     "name": "stdout",
     "output_type": "stream",
     "text": [
      "MSE:0.0142\n",
      "MAE:0.0915\n",
      "R2_score:0.8966\n"
     ]
    }
   ],
   "source": [
    "print('MSE:%.4f'%mean_squared_error(y_test,y_pred_weighted))\n",
    "print('MAE:%.4f'%mean_absolute_error(y_test,y_pred_weighted))\n",
    "print('R2_score:%.4f'%r2_score(y_test,y_pred_weighted))"
   ]
  },
  {
   "cell_type": "markdown",
   "id": "690e2104",
   "metadata": {},
   "source": [
    "# Compare Results of Each Ensembling Techniques\n",
    "compare and analyze the performance of each technique by taking RMSE values"
   ]
  },
  {
   "cell_type": "code",
   "execution_count": 101,
   "id": "c4c344ca",
   "metadata": {},
   "outputs": [],
   "source": [
    "bagging_rmse = np.sqrt(mean_squared_error(y_test, y_pred_rf))\n",
    "boosting_rmse = np.sqrt(mean_squared_error(y_test, y_pred_gb))\n",
    "stacking_rmse = np.sqrt(mean_squared_error(y_test, y_pred_stake))\n",
    "voting_rmse = np.sqrt(mean_squared_error(y_test, y_pred_voting))\n",
    "weighted_rmse = np.sqrt(mean_squared_error(y_test, y_pred_weighted))\n"
   ]
  },
  {
   "cell_type": "code",
   "execution_count": 103,
   "id": "4b37da1a",
   "metadata": {},
   "outputs": [
    {
     "name": "stdout",
     "output_type": "stream",
     "text": [
      "Bagging(Random Forest) RMSE: 0.12260344620934514\n",
      "Boosting(Gradient Boosting) RMSE: 0.12662487427252478\n",
      "Stacking RMSE: 0.1231576901660913\n",
      "Voting RMSE: 0.11924395629680816\n",
      "Weighted Averaging RMSE: 0.11896408092027111\n"
     ]
    }
   ],
   "source": [
    "print(f\"Bagging(Random Forest) RMSE: {bagging_rmse}\")\n",
    "print(f\"Boosting(Gradient Boosting) RMSE: {boosting_rmse}\")\n",
    "print(f\"Stacking RMSE: {stacking_rmse}\")\n",
    "print(f\"Voting RMSE: {voting_rmse}\")\n",
    "print(f\"Weighted Averaging RMSE: {weighted_rmse}\")"
   ]
  },
  {
   "cell_type": "code",
   "execution_count": null,
   "id": "86b10996",
   "metadata": {},
   "outputs": [],
   "source": []
  }
 ],
 "metadata": {
  "kernelspec": {
   "display_name": "Python 3 (ipykernel)",
   "language": "python",
   "name": "python3"
  },
  "language_info": {
   "codemirror_mode": {
    "name": "ipython",
    "version": 3
   },
   "file_extension": ".py",
   "mimetype": "text/x-python",
   "name": "python",
   "nbconvert_exporter": "python",
   "pygments_lexer": "ipython3",
   "version": "3.9.13"
  }
 },
 "nbformat": 4,
 "nbformat_minor": 5
}
